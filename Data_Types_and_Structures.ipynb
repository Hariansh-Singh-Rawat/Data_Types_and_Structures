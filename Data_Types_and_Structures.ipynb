{
  "nbformat": 4,
  "nbformat_minor": 0,
  "metadata": {
    "colab": {
      "provenance": []
    },
    "kernelspec": {
      "name": "python3",
      "display_name": "Python 3"
    },
    "language_info": {
      "name": "python"
    }
  },
  "cells": [
    {
      "cell_type": "markdown",
      "source": [
        "# Data Types and Structures Questions"
      ],
      "metadata": {
        "id": "gWpAc3kK5ADx"
      }
    },
    {
      "cell_type": "markdown",
      "source": [
        "Q1> What are data structures, and why are they important?\n",
        "######Ans1> Data structures are a way of organizing and storing data in a computer so that it can be used efficiently. Data structures are important because every data structure has a specific format for organizing, processing, retrieving and storing data, allowing data to be manipulated in various ways by users and computer systems.\n",
        "Q2> Explain the difference between mutable and immutable data types with examples?\n",
        "######Ans2> Mutable data types : Mutable objects can be changed after creation. We can update, add, or remove elements without creating a new object. Examples : List, Dictionary, Set.\n",
        "###### Immutable data types : Immutable objects cannot be changed after they’re created. Any operation that tries to alter them results in a new object being created. Examples : String, Tuple, Integer, Float, Boolean.\n",
        "Q3> What are the main differences between lists and tuples in Python?  \n",
        "######Ans3> The main differences between lists and tuples in Python are :\n",
        "###### a) Lists are mutable, meaning their contents can be changed after creation whereas tuples are immutable, so once a tuple is created, its contents cannot be altered.\n",
        "###### b) Lists use square brackets ([ ]), while tuples use parentheses (( )).\n",
        "###### c) Tuples are immutable, they are generally faster and more memory-efficient than lists.\n",
        "\n",
        "Q4> Describe how dictionaries store data?\n",
        "######Ans4> Dictionaries stores data in key:value pairs.\n",
        "Q5> Why might you use a set instead of a list in Python?\n",
        "######Ans5> We might use set instead of list in python :\n",
        "###### a)Sets automatically eliminate duplicates, while lists allow them.            \n",
        "###### b)Sets support operations like union, intersection, difference, and symmetric difference.          \n",
        "###### c)Sets are unordered collections, so if order doesn't matter, sets are a good fit.\n",
        "Q6> What is a string in Python, and how is it different from a list?\n",
        "######Ans6> In Python, a string is a sequence of characters, typically used to represent textual data.A string is a sequence of characters between single or double quotes whereas a list is a sequence of items, where each item could be anything (an integer, a float, a string, etc).\n",
        "Q7> How do tuples ensure data integrity in Python?\n",
        "######Ans7> Tuples help ensure data integrity in Python by being immutable, meaning their contents cannot be changed after creation.\n",
        "Q8> What is a hash table, and how does it relate to dictionaries in Python?\n",
        "######Ans8> A hash table is a data structure that allows fast storage and retrieval of key-value pairs using a hash function.In Python, dictionaries are implemented using hash tables. When we create a dictionary, Python uses a hash function to generate a unique hash code for each key. This hash code is then used to determine the index where the key-value pair is stored.\n",
        "Q9> Can lists contain different data types in Python?\n",
        "######Ans9> Yes, lists in Python can contain different data types because Python lists are heterogeneous meaning they can hold elements of any type, even mixed types within the same list.\n",
        "Q10> Explain why strings are immutable in Python?\n",
        "######Ans10> Strings are immutable as the immutability of strings in Python enhances performance, security, and the overall robustness of the language. While modifying a string creates a new object, this approach provides numerous benefits that make Python more efficient and easier to use.\n",
        "Q11> What advantages do dictionaries offer over lists for certain tasks?\n",
        "######Ans11> Advantages dictionaries offer over lists are:\n",
        "###### a)Accessing a value by its key is very fast.\n",
        "###### b) Better for representing key-value relationships.\n",
        "###### c)Dictionaries automatically prevent duplicate keys.            \n",
        "Q12> Describe a scenario where using a tuple would be preferable over a list?\n",
        "######Ans12> Tuples would be preferable over list if you want the data in your collection to be read-only, never to change, and always remain the same and constant.\n",
        "Q13> How do sets handle duplicate values in Python?\n",
        "######Ans13> The duplicate values in sets are simply ignored and the set remains unchanged.\n",
        "Q14> How does the “in” keyword work differently for lists and dictionaries?\n",
        "######Ans14> \"in\" keyword can be used to test whether certain characters are present in a string or a certain value present in a list and on other hand the \"in\" keyword for dictionaries checks for the presence of a key.\n",
        "Q15> Can you modify the elements of a tuple? Explain why or why not?\n",
        "######Ans15> No, we cannot modify the elements of a tuple after it has been created because tuples are immutable data structures, meaning their items cannot be changed once created.\n",
        "Q16> What is a nested dictionary, and give an example of its use case?\n",
        "######Ans16> A nested dictionary is a dictionary inside a dictionary. It's a collection of dictionaries into one single dictionary. Example of its use case:\n",
        "###### nested_dict = { 'dictA': {'key_1': 'value_1'},             'dictB': {'key_2': 'value_2'}}\n",
        "Q17> Describe the time complexity of accessing elements in a dictionary?\n",
        "######Ans17> Accessing an element in a dictionary typically has an average time complexity of O(1), meaning it takes constant time regardless of the dictionary's size. This is due to the use of a hash table, which allows for direct lookup of elements based on their key.\n",
        "Q18> In what situations are lists preferred over dictionaries?\n",
        "######Ans18> Situations where lists preferred over dictionaries are for ordered collections and sequence operations, such as maintaining a stack or queue.\n",
        "Q19> Why are dictionaries considered unordered, and how does that affect data retrieval?\n",
        "######Ans19> A dictionary is considered as unordered because it does not maintain any inherent order of the items based on when they were added. It affect data retrieval as there is no guaranteed order for indexing and slicing.\n",
        "Q20> Explain the difference between a list and a dictionary in terms of data retrieval?\n",
        "######Ans20> In terms of data retrieval, lists are accessed by index, while dictionaries are accessed by key.\n"
      ],
      "metadata": {
        "id": "FKbHugJc5Kca"
      }
    },
    {
      "cell_type": "markdown",
      "source": [
        "#Data Types and Structures Practical Questions"
      ],
      "metadata": {
        "id": "3OSXRw_H9JG1"
      }
    },
    {
      "cell_type": "code",
      "execution_count": 1,
      "metadata": {
        "id": "5cnM6hzv40Bb",
        "colab": {
          "base_uri": "https://localhost:8080/"
        },
        "outputId": "81aecc7d-0883-4a53-e16b-2549574f31ea"
      },
      "outputs": [
        {
          "output_type": "stream",
          "name": "stdout",
          "text": [
            "Enter your name:Hariansh\n",
            "Hariansh\n"
          ]
        }
      ],
      "source": [
        "# Q1)Write a code to create a string with your name and print it.\n",
        "my_string = input(\"Enter your name:\")\n",
        "print(my_string)"
      ]
    },
    {
      "cell_type": "code",
      "source": [
        "# Q2)Write a code to find the length of the string \"Hello World\".\n",
        "my_string = \"Hello World\"\n",
        "print(len(my_string))"
      ],
      "metadata": {
        "colab": {
          "base_uri": "https://localhost:8080/"
        },
        "id": "6UrOeCOd_7_P",
        "outputId": "a2c95736-65fd-473a-fa02-851646a41a5a"
      },
      "execution_count": 2,
      "outputs": [
        {
          "output_type": "stream",
          "name": "stdout",
          "text": [
            "11\n"
          ]
        }
      ]
    },
    {
      "cell_type": "code",
      "source": [
        "# Q3)Write a code to slice the first 3 characters from the string \"Python Programming\".\n",
        "my_string = \"Python Programming\"\n",
        "print(my_string[:3])"
      ],
      "metadata": {
        "colab": {
          "base_uri": "https://localhost:8080/"
        },
        "id": "-z4uVAWHAFdi",
        "outputId": "91ea8d97-17a5-4180-f5ba-a98ab4497ee9"
      },
      "execution_count": 3,
      "outputs": [
        {
          "output_type": "stream",
          "name": "stdout",
          "text": [
            "Pyt\n"
          ]
        }
      ]
    },
    {
      "cell_type": "code",
      "source": [
        "# Q4)Write a code to convert the string \"hello\" to uppercase.\n",
        "my_string = \"hello\"\n",
        "print(my_string.upper())"
      ],
      "metadata": {
        "colab": {
          "base_uri": "https://localhost:8080/"
        },
        "id": "KOH2wgwUBBJ2",
        "outputId": "e60ef688-905e-4872-c3d9-58451e8e06ae"
      },
      "execution_count": 4,
      "outputs": [
        {
          "output_type": "stream",
          "name": "stdout",
          "text": [
            "HELLO\n"
          ]
        }
      ]
    },
    {
      "cell_type": "code",
      "source": [
        "# Q5)Write a code to replace the word \"apple\" with \"orange\" in the string \"I like apple\".\n",
        "my_string = \"I like apple\"\n",
        "print(my_string.replace(\"apple\",\"orange\"))"
      ],
      "metadata": {
        "colab": {
          "base_uri": "https://localhost:8080/"
        },
        "id": "iALV51GA89A3",
        "outputId": "ccb67912-c0f9-47bb-83f3-82f0813317e8"
      },
      "execution_count": 2,
      "outputs": [
        {
          "output_type": "stream",
          "name": "stdout",
          "text": [
            "I like orange\n"
          ]
        }
      ]
    },
    {
      "cell_type": "code",
      "source": [
        "# Q6)Write a code to create a list with numbers 1 to 5 and print it.\n",
        "my_list = [1,2,3,4,5]\n",
        "print(my_list)"
      ],
      "metadata": {
        "colab": {
          "base_uri": "https://localhost:8080/"
        },
        "id": "Ks3wVcgZ9nOe",
        "outputId": "71d02714-13ae-420b-f60a-1c97774ec5b0"
      },
      "execution_count": 1,
      "outputs": [
        {
          "output_type": "stream",
          "name": "stdout",
          "text": [
            "[1, 2, 3, 4, 5]\n"
          ]
        }
      ]
    },
    {
      "cell_type": "code",
      "source": [
        "# Q7)Write a code to append the number 10 to the list [1, 2, 3, 4].\n",
        "my_list = [1,2,3,4]\n",
        "my_list.append(10)\n",
        "print(my_list)"
      ],
      "metadata": {
        "colab": {
          "base_uri": "https://localhost:8080/"
        },
        "id": "ZRAPokVN-Biq",
        "outputId": "21976fd3-63d9-4324-aa95-7ea1c6f4b2e2"
      },
      "execution_count": 3,
      "outputs": [
        {
          "output_type": "stream",
          "name": "stdout",
          "text": [
            "[1, 2, 3, 4, 10]\n"
          ]
        }
      ]
    },
    {
      "cell_type": "code",
      "source": [
        "# Q8)Write a code to remove the number 3 from the list [1, 2, 3, 4, 5].\n",
        "my_list = [1,2,3,4,5]\n",
        "my_list.remove(3)\n",
        "print(my_list)"
      ],
      "metadata": {
        "colab": {
          "base_uri": "https://localhost:8080/"
        },
        "id": "Jsoewrav-hpH",
        "outputId": "31f1502e-bce6-489a-b3fe-0accf093259d"
      },
      "execution_count": 4,
      "outputs": [
        {
          "output_type": "stream",
          "name": "stdout",
          "text": [
            "[1, 2, 4, 5]\n"
          ]
        }
      ]
    },
    {
      "cell_type": "code",
      "source": [
        "# Q9)Write a code to access the second element in the list ['a', 'b', 'c', 'd'].\n",
        "my_list = ['a', 'b', 'c', 'd']\n",
        "print(my_list[1])"
      ],
      "metadata": {
        "colab": {
          "base_uri": "https://localhost:8080/"
        },
        "id": "E1i3eGPl-xgC",
        "outputId": "b91ca7d9-a058-40ef-ad27-32b8595bb25d"
      },
      "execution_count": 5,
      "outputs": [
        {
          "output_type": "stream",
          "name": "stdout",
          "text": [
            "b\n"
          ]
        }
      ]
    },
    {
      "cell_type": "code",
      "source": [
        "# Q10)Write a code to reverse the list [10, 20, 30, 40, 50].\n",
        "my_list = [10, 20, 30, 40, 50]\n",
        "print(my_list[::-1])"
      ],
      "metadata": {
        "colab": {
          "base_uri": "https://localhost:8080/"
        },
        "id": "YsR-j_3iFnCj",
        "outputId": "e0002cbc-7a9d-454f-be95-2e2119f56ec2"
      },
      "execution_count": 1,
      "outputs": [
        {
          "output_type": "stream",
          "name": "stdout",
          "text": [
            "[50, 40, 30, 20, 10]\n"
          ]
        }
      ]
    },
    {
      "cell_type": "code",
      "source": [
        "# Q11)Write a code to create a tuple with the elements 100, 200, 300 and print it.\n",
        "my_tuple = (100,200,300)\n",
        "print(my_tuple)"
      ],
      "metadata": {
        "colab": {
          "base_uri": "https://localhost:8080/"
        },
        "id": "e0NIlYIVFtgI",
        "outputId": "60590458-acf3-4e3a-c5e9-094c4745d4f7"
      },
      "execution_count": 4,
      "outputs": [
        {
          "output_type": "stream",
          "name": "stdout",
          "text": [
            "(100, 200, 300)\n"
          ]
        }
      ]
    },
    {
      "cell_type": "code",
      "source": [
        "# Q12)Write a code to access the second-to-last element of the tuple ('red', 'green', 'blue', 'yellow').\n",
        "my_tuple = ('red','geen','blue','yellow')\n",
        "print(my_tuple[1:])"
      ],
      "metadata": {
        "colab": {
          "base_uri": "https://localhost:8080/"
        },
        "id": "x8hIbybzGNyH",
        "outputId": "3b88b495-bd28-4c49-fec1-bb5bc23f198b"
      },
      "execution_count": 5,
      "outputs": [
        {
          "output_type": "stream",
          "name": "stdout",
          "text": [
            "('geen', 'blue', 'yellow')\n"
          ]
        }
      ]
    },
    {
      "cell_type": "code",
      "source": [
        "# Q13)Write a code to find the minimum number in the tuple (10, 20, 5, 15).\n",
        "my_tuple = (10,20,5,15)\n",
        "print(min(my_tuple))\n"
      ],
      "metadata": {
        "colab": {
          "base_uri": "https://localhost:8080/"
        },
        "id": "xxvA9gSQHHwc",
        "outputId": "4eb8c254-dc9e-4990-eb44-00bb76a21ceb"
      },
      "execution_count": 7,
      "outputs": [
        {
          "output_type": "stream",
          "name": "stdout",
          "text": [
            "5\n"
          ]
        }
      ]
    },
    {
      "cell_type": "code",
      "source": [
        "# Q14)Write a code to find the index of the element \"cat\" in the tuple ('dog', 'cat', 'rabbit').\n",
        "my_tuple = ('dog','cat','rabbit')\n",
        "print(my_tuple.index('cat'))"
      ],
      "metadata": {
        "colab": {
          "base_uri": "https://localhost:8080/"
        },
        "id": "O4fkgJvgIcee",
        "outputId": "9dbd1847-2d90-43c4-c644-4df69f78312d"
      },
      "execution_count": 8,
      "outputs": [
        {
          "output_type": "stream",
          "name": "stdout",
          "text": [
            "1\n"
          ]
        }
      ]
    },
    {
      "cell_type": "code",
      "source": [
        "# Q15)Write a code to create a tuple containing three different fruits and check if \"kiwi\" is in it.\n",
        "my_tuple = ('apple', 'kiwi', 'orange')\n",
        "print(\"kiwi\" in my_tuple)"
      ],
      "metadata": {
        "colab": {
          "base_uri": "https://localhost:8080/"
        },
        "id": "LCNlnDkRJP1x",
        "outputId": "d632f7c8-6221-493e-f510-94d8921de6bd"
      },
      "execution_count": 12,
      "outputs": [
        {
          "output_type": "stream",
          "name": "stdout",
          "text": [
            "True\n"
          ]
        }
      ]
    },
    {
      "cell_type": "code",
      "source": [
        "# Q16)Write a code to create a set with the elements 'a', 'b', 'c' and print it.\n",
        "my_set = {'a','b','c'}\n",
        "print(my_set)"
      ],
      "metadata": {
        "colab": {
          "base_uri": "https://localhost:8080/"
        },
        "id": "0B2279LSKBi8",
        "outputId": "f624fca9-8411-4ef4-81d4-48f64d16b68d"
      },
      "execution_count": 15,
      "outputs": [
        {
          "output_type": "stream",
          "name": "stdout",
          "text": [
            "{'c', 'a', 'b'}\n"
          ]
        }
      ]
    },
    {
      "cell_type": "code",
      "source": [
        "# Q17)Write a code to clear all elements from the set {1, 2, 3, 4, 5}.\n",
        "my_set = {1, 2, 3, 4, 5}\n",
        "my_set.clear()\n",
        "print(my_set)"
      ],
      "metadata": {
        "colab": {
          "base_uri": "https://localhost:8080/"
        },
        "id": "5nQg6JWFKy5T",
        "outputId": "264cd700-7078-472f-8448-a7e081e6b4f5"
      },
      "execution_count": 16,
      "outputs": [
        {
          "output_type": "stream",
          "name": "stdout",
          "text": [
            "set()\n"
          ]
        }
      ]
    },
    {
      "cell_type": "code",
      "source": [
        "# Q18)Write a code to remove the element 4 from the set {1, 2, 3, 4}.\n",
        "my_set = {1, 2, 3, 4}\n",
        "my_set.remove(4)\n",
        "print(my_set)"
      ],
      "metadata": {
        "colab": {
          "base_uri": "https://localhost:8080/"
        },
        "id": "gNDC0zR6LsRy",
        "outputId": "864a0d7f-c088-4aa4-8ecb-05fa5148af22"
      },
      "execution_count": 17,
      "outputs": [
        {
          "output_type": "stream",
          "name": "stdout",
          "text": [
            "{1, 2, 3}\n"
          ]
        }
      ]
    },
    {
      "cell_type": "code",
      "source": [
        "# Q19)Write a code to find the union of two sets {1, 2, 3} and {3, 4, 5}.\n",
        "set1 = {1, 2, 3}\n",
        "set2 = {3, 4, 5}\n",
        "union_set = set1 | set2\n",
        "print(union_set)"
      ],
      "metadata": {
        "colab": {
          "base_uri": "https://localhost:8080/"
        },
        "id": "fK7zlJZrM3Qg",
        "outputId": "ab3cd5b8-bc15-425f-d4df-e05ab99c0ae6"
      },
      "execution_count": 18,
      "outputs": [
        {
          "output_type": "stream",
          "name": "stdout",
          "text": [
            "{1, 2, 3, 4, 5}\n"
          ]
        }
      ]
    },
    {
      "cell_type": "code",
      "source": [
        "# Q20)Write a code to find the intersection of two sets {1, 2, 3} and {2, 3, 4}.\n",
        "set1 = {1, 2, 3}\n",
        "set2 = {2, 3, 4}\n",
        "intersection_set = set1 & set2\n",
        "print(intersection_set)"
      ],
      "metadata": {
        "colab": {
          "base_uri": "https://localhost:8080/"
        },
        "id": "h74PxeBcOk3o",
        "outputId": "dcf9eee2-58c3-4fc1-a219-de7bcc7f2f77"
      },
      "execution_count": 19,
      "outputs": [
        {
          "output_type": "stream",
          "name": "stdout",
          "text": [
            "{2, 3}\n"
          ]
        }
      ]
    },
    {
      "cell_type": "code",
      "source": [
        "# Q21)Write a code to create a dictionary with the keys \"name\", \"age\", and \"city\", and print it.\n",
        "my_dict = {'name':'','age':'','city':''}\n",
        "print(my_dict)"
      ],
      "metadata": {
        "colab": {
          "base_uri": "https://localhost:8080/"
        },
        "id": "8xlWMvh2PUhj",
        "outputId": "bb95039e-6cbb-44c5-d937-0048f0a4b002"
      },
      "execution_count": 23,
      "outputs": [
        {
          "output_type": "stream",
          "name": "stdout",
          "text": [
            "{'name': '', 'age': '', 'city': ''}\n"
          ]
        }
      ]
    },
    {
      "cell_type": "code",
      "source": [
        "# Q22)Write a code to add a new key-value pair \"country\": \"USA\" to the dictionary {'name': 'John', 'age': 25}.\n",
        "my_dict = {'name': 'John', 'age': 25}\n",
        "my_dict['country'] = 'USA'\n",
        "print(my_dict)"
      ],
      "metadata": {
        "colab": {
          "base_uri": "https://localhost:8080/"
        },
        "id": "nubIJ_NKPfbQ",
        "outputId": "d6f67445-4b9d-486b-e659-892c25f16592"
      },
      "execution_count": 24,
      "outputs": [
        {
          "output_type": "stream",
          "name": "stdout",
          "text": [
            "{'name': 'John', 'age': 25, 'country': 'USA'}\n"
          ]
        }
      ]
    },
    {
      "cell_type": "code",
      "source": [
        "# Q23)Write a code to access the value associated with the key \"name\" in the dictionary {'name': 'Alice', 'age': 30}.\n",
        "my_dict = {'name': 'Alice', 'age': 30}\n",
        "print(my_dict['name'])"
      ],
      "metadata": {
        "colab": {
          "base_uri": "https://localhost:8080/"
        },
        "id": "g3H-DPQnPlNA",
        "outputId": "04841418-f8f7-4089-ce67-22815caa7449"
      },
      "execution_count": 25,
      "outputs": [
        {
          "output_type": "stream",
          "name": "stdout",
          "text": [
            "Alice\n"
          ]
        }
      ]
    },
    {
      "cell_type": "code",
      "source": [
        "# Q24)Write a code to remove the key \"age\" from the dictionary {'name': 'Bob', 'age': 22, 'city': 'New York'}.\n",
        "my_dict = {'name': 'Bob', 'age': 22, 'city': 'New York'}\n",
        "del my_dict['age']\n",
        "print(my_dict)"
      ],
      "metadata": {
        "colab": {
          "base_uri": "https://localhost:8080/"
        },
        "id": "5H1ljIrRPtRD",
        "outputId": "aac03f67-a497-41fa-dc89-7c2f42d27939"
      },
      "execution_count": 26,
      "outputs": [
        {
          "output_type": "stream",
          "name": "stdout",
          "text": [
            "{'name': 'Bob', 'city': 'New York'}\n"
          ]
        }
      ]
    },
    {
      "cell_type": "code",
      "source": [
        "# Q25)Write a code to check if the key \"city\" exists in the dictionary {'name': 'Alice', 'city': 'Paris'}.\n",
        "my_dict = {'name': 'Alice', 'city': 'Paris'}\n",
        "print('city' in my_dict)"
      ],
      "metadata": {
        "colab": {
          "base_uri": "https://localhost:8080/"
        },
        "id": "txJQdTP9P0Yc",
        "outputId": "65ca9b0e-ce99-4dcb-81b3-dd1cb33e9850"
      },
      "execution_count": 27,
      "outputs": [
        {
          "output_type": "stream",
          "name": "stdout",
          "text": [
            "True\n"
          ]
        }
      ]
    },
    {
      "cell_type": "code",
      "source": [
        "# Q26)Write a code to create a list, a tuple, and a dictionary, and print them all.\n",
        "my_list = [1,2,3,4]\n",
        "my_tuple = (1,2,3,4)\n",
        "my_dict = {'name':'','age':'','city':''}\n",
        "print(my_list)\n",
        "print(my_tuple)\n",
        "print(my_dict)"
      ],
      "metadata": {
        "colab": {
          "base_uri": "https://localhost:8080/"
        },
        "id": "Mgnh7EwVP51M",
        "outputId": "4aebc4c0-bca3-4cef-8218-a5b53b0cf506"
      },
      "execution_count": 28,
      "outputs": [
        {
          "output_type": "stream",
          "name": "stdout",
          "text": [
            "[1, 2, 3, 4]\n",
            "(1, 2, 3, 4)\n",
            "{'name': '', 'age': '', 'city': ''}\n"
          ]
        }
      ]
    },
    {
      "cell_type": "code",
      "source": [
        "# Q27)Write a code to create a list of 5 random numbers between 1 and 100, sort it in ascending order, and print the result.\n",
        "import random\n",
        "\n",
        "random_list = [random.randint(1, 100) for _ in range(5)]\n",
        "random_list.sort()\n",
        "print(random_list)"
      ],
      "metadata": {
        "id": "auOr2tmsP-3K"
      },
      "execution_count": null,
      "outputs": []
    },
    {
      "cell_type": "code",
      "source": [
        "# Q28)Write a code to create a list with strings and print the element at the third index.\n",
        "my_list = ['apple','b','cat','d','egg']\n",
        "print(my_list[2])"
      ],
      "metadata": {
        "colab": {
          "base_uri": "https://localhost:8080/"
        },
        "id": "Az43S3IqQJ5_",
        "outputId": "d98386b4-612f-4b6b-f864-96fa4446492e"
      },
      "execution_count": 30,
      "outputs": [
        {
          "output_type": "stream",
          "name": "stdout",
          "text": [
            "cat\n"
          ]
        }
      ]
    },
    {
      "cell_type": "code",
      "source": [
        "# Q29)Write a code to combine two dictionaries into one and print the result.\n",
        "my_dict_1 = {'a': 1, 'b': 2}\n",
        "my_dict_2 = {'c': 3, 'd': 4}\n",
        "\n",
        "combined_dict = {**my_dict_1, **my_dict_2}\n",
        "print(combined_dict)"
      ],
      "metadata": {
        "colab": {
          "base_uri": "https://localhost:8080/"
        },
        "id": "ao7YHDriQRdQ",
        "outputId": "7944e852-b95e-413d-9bcc-fa79f132c6ff"
      },
      "execution_count": 36,
      "outputs": [
        {
          "output_type": "stream",
          "name": "stdout",
          "text": [
            "{'a': 1, 'b': 2, 'c': 3, 'd': 4}\n"
          ]
        }
      ]
    },
    {
      "cell_type": "code",
      "source": [
        "# Q30)Write a code to convert a list of strings into a set.\n",
        "my_list = ['apple','b','cat','d','egg']\n",
        "print(set(my_list))"
      ],
      "metadata": {
        "colab": {
          "base_uri": "https://localhost:8080/"
        },
        "id": "Rwe6FQAoQT35",
        "outputId": "d5422ca7-e6d8-4ba4-9e93-18e7a49f5a42"
      },
      "execution_count": 34,
      "outputs": [
        {
          "output_type": "stream",
          "name": "stdout",
          "text": [
            "{'d', 'apple', 'cat', 'b', 'egg'}\n"
          ]
        }
      ]
    }
  ]
}